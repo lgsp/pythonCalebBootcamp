{
  "nbformat": 4,
  "nbformat_minor": 0,
  "metadata": {
    "colab": {
      "name": "plus_or_minus.ipynb",
      "provenance": [],
      "authorship_tag": "ABX9TyM5+aps4ttJYN1gVmhW9sv8",
      "include_colab_link": true
    },
    "kernelspec": {
      "name": "python3",
      "display_name": "Python 3"
    },
    "language_info": {
      "name": "python"
    }
  },
  "cells": [
    {
      "cell_type": "markdown",
      "metadata": {
        "id": "view-in-github",
        "colab_type": "text"
      },
      "source": [
        "<a href=\"https://colab.research.google.com/github/lgsp/pythonCalebBootcamp/blob/main/plus_or_minus.ipynb\" target=\"_parent\"><img src=\"https://colab.research.google.com/assets/colab-badge.svg\" alt=\"Open In Colab\"/></a>"
      ]
    },
    {
      "cell_type": "code",
      "execution_count": 1,
      "metadata": {
        "colab": {
          "base_uri": "https://localhost:8080/"
        },
        "id": "3E8ybXJBWkAS",
        "outputId": "4ff04edb-7864-4b4e-9dd8-d83ec2e620fd"
      },
      "outputs": [
        {
          "output_type": "stream",
          "name": "stdout",
          "text": [
            "Guess a number between 0 and 100.\n",
            "50\n",
            "Guess lower\n",
            "25\n",
            "Guess lower\n",
            "12\n",
            "Guess lower\n",
            "6\n",
            "Guess lower\n",
            "3\n",
            "Guess higher\n",
            "5\n",
            "Guess lower\n",
            "4\n",
            "You win!\n"
          ]
        }
      ],
      "source": [
        "from random import randint\n",
        "low = 0\n",
        "high = 100\n",
        "correct = randint(low, high)\n",
        "print(f'Guess a number between {low} and {high}.')\n",
        "\n",
        "while True:\n",
        "    guess = int(input())\n",
        "\n",
        "    if guess < correct:\n",
        "        print(\"Guess higher\")\n",
        "    elif guess > correct:\n",
        "        print(\"Guess lower\")\n",
        "    else:\n",
        "        print(\"You win!\")\n",
        "        break\n"
      ]
    },
    {
      "cell_type": "code",
      "source": [
        ""
      ],
      "metadata": {
        "id": "v-JYwqAoWyhn"
      },
      "execution_count": null,
      "outputs": []
    }
  ]
}